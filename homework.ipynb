{
 "cells": [
  {
   "cell_type": "code",
   "execution_count": 1,
   "metadata": {},
   "outputs": [],
   "source": [
    "#Dependencias\n",
    "import matplotlib.pyplot as plt\n",
    "import numpy as np\n",
    "import pandas as pd"
   ]
  },
  {
   "cell_type": "code",
   "execution_count": 2,
   "metadata": {},
   "outputs": [],
   "source": [
    "#Importo los archivos a utilizar\n",
    "mouse_df = pd.read_csv(\"./Resources/mouse_drug_data.csv\")\n",
    "clinical_df = pd.read_csv(\"./Resources/clinicaltrial_data.csv\")"
   ]
  },
  {
   "cell_type": "code",
   "execution_count": 3,
   "metadata": {},
   "outputs": [
    {
     "data": {
      "text/html": [
       "<div>\n",
       "<style scoped>\n",
       "    .dataframe tbody tr th:only-of-type {\n",
       "        vertical-align: middle;\n",
       "    }\n",
       "\n",
       "    .dataframe tbody tr th {\n",
       "        vertical-align: top;\n",
       "    }\n",
       "\n",
       "    .dataframe thead th {\n",
       "        text-align: right;\n",
       "    }\n",
       "</style>\n",
       "<table border=\"1\" class=\"dataframe\">\n",
       "  <thead>\n",
       "    <tr style=\"text-align: right;\">\n",
       "      <th></th>\n",
       "      <th>Mouse ID</th>\n",
       "      <th>Drug</th>\n",
       "      <th>Timepoint</th>\n",
       "      <th>Tumor Volume (mm3)</th>\n",
       "      <th>Metastatic Sites</th>\n",
       "    </tr>\n",
       "  </thead>\n",
       "  <tbody>\n",
       "    <tr>\n",
       "      <th>926</th>\n",
       "      <td>a203</td>\n",
       "      <td>Infubinol</td>\n",
       "      <td>0</td>\n",
       "      <td>45.000000</td>\n",
       "      <td>0</td>\n",
       "    </tr>\n",
       "    <tr>\n",
       "      <th>934</th>\n",
       "      <td>a203</td>\n",
       "      <td>Infubinol</td>\n",
       "      <td>40</td>\n",
       "      <td>63.593490</td>\n",
       "      <td>2</td>\n",
       "    </tr>\n",
       "    <tr>\n",
       "      <th>933</th>\n",
       "      <td>a203</td>\n",
       "      <td>Infubinol</td>\n",
       "      <td>35</td>\n",
       "      <td>61.931650</td>\n",
       "      <td>2</td>\n",
       "    </tr>\n",
       "    <tr>\n",
       "      <th>932</th>\n",
       "      <td>a203</td>\n",
       "      <td>Infubinol</td>\n",
       "      <td>30</td>\n",
       "      <td>59.523197</td>\n",
       "      <td>1</td>\n",
       "    </tr>\n",
       "    <tr>\n",
       "      <th>931</th>\n",
       "      <td>a203</td>\n",
       "      <td>Infubinol</td>\n",
       "      <td>25</td>\n",
       "      <td>56.793208</td>\n",
       "      <td>1</td>\n",
       "    </tr>\n",
       "  </tbody>\n",
       "</table>\n",
       "</div>"
      ],
      "text/plain": [
       "    Mouse ID       Drug  Timepoint  Tumor Volume (mm3)  Metastatic Sites\n",
       "926     a203  Infubinol          0           45.000000                 0\n",
       "934     a203  Infubinol         40           63.593490                 2\n",
       "933     a203  Infubinol         35           61.931650                 2\n",
       "932     a203  Infubinol         30           59.523197                 1\n",
       "931     a203  Infubinol         25           56.793208                 1"
      ]
     },
     "execution_count": 3,
     "metadata": {},
     "output_type": "execute_result"
    }
   ],
   "source": [
    "#Obtengo un DataFrame para poder graficar \n",
    "data = pd.merge(left=mouse_df, right=clinical_df, left_on=[\"Mouse ID\"], right_on=[\"Mouse ID\"], how=\"right\").sort_values(by=\"Mouse ID\")\n",
    "data.head()"
   ]
  },
  {
   "cell_type": "code",
   "execution_count": 4,
   "metadata": {},
   "outputs": [
    {
     "data": {
      "text/html": [
       "<div>\n",
       "<style scoped>\n",
       "    .dataframe tbody tr th:only-of-type {\n",
       "        vertical-align: middle;\n",
       "    }\n",
       "\n",
       "    .dataframe tbody tr th {\n",
       "        vertical-align: top;\n",
       "    }\n",
       "\n",
       "    .dataframe thead th {\n",
       "        text-align: right;\n",
       "    }\n",
       "</style>\n",
       "<table border=\"1\" class=\"dataframe\">\n",
       "  <thead>\n",
       "    <tr style=\"text-align: right;\">\n",
       "      <th></th>\n",
       "      <th>Drug</th>\n",
       "      <th>Timepoint</th>\n",
       "      <th>Tumor Volume (mm3)</th>\n",
       "    </tr>\n",
       "  </thead>\n",
       "  <tbody>\n",
       "    <tr>\n",
       "      <th>0</th>\n",
       "      <td>Capomulin</td>\n",
       "      <td>0</td>\n",
       "      <td>45.000000</td>\n",
       "    </tr>\n",
       "    <tr>\n",
       "      <th>1</th>\n",
       "      <td>Capomulin</td>\n",
       "      <td>5</td>\n",
       "      <td>44.266086</td>\n",
       "    </tr>\n",
       "    <tr>\n",
       "      <th>2</th>\n",
       "      <td>Capomulin</td>\n",
       "      <td>10</td>\n",
       "      <td>43.084291</td>\n",
       "    </tr>\n",
       "    <tr>\n",
       "      <th>3</th>\n",
       "      <td>Capomulin</td>\n",
       "      <td>15</td>\n",
       "      <td>42.064317</td>\n",
       "    </tr>\n",
       "    <tr>\n",
       "      <th>4</th>\n",
       "      <td>Capomulin</td>\n",
       "      <td>20</td>\n",
       "      <td>40.716325</td>\n",
       "    </tr>\n",
       "  </tbody>\n",
       "</table>\n",
       "</div>"
      ],
      "text/plain": [
       "        Drug  Timepoint  Tumor Volume (mm3)\n",
       "0  Capomulin          0           45.000000\n",
       "1  Capomulin          5           44.266086\n",
       "2  Capomulin         10           43.084291\n",
       "3  Capomulin         15           42.064317\n",
       "4  Capomulin         20           40.716325"
      ]
     },
     "execution_count": 4,
     "metadata": {},
     "output_type": "execute_result"
    }
   ],
   "source": [
    "#Agrupo mis datos por Drug y por Timepoint para graficar y saco la media \n",
    "groupedtumordata = data.groupby([\"Drug\", \"Timepoint\"])[\"Tumor Volume (mm3)\"].mean().reset_index()\n",
    "groupedtumordata = pd.DataFrame(groupedtumordata)\n",
    "groupedtumordata.head()"
   ]
  },
  {
   "cell_type": "code",
   "execution_count": 5,
   "metadata": {},
   "outputs": [
    {
     "data": {
      "text/plain": [
       "array(['Capomulin', 'Ceftamin', 'Infubinol', 'Ketapril', 'Naftisol',\n",
       "       'Placebo', 'Propriva', 'Ramicane', 'Stelasyn', 'Zoniferol'],\n",
       "      dtype=object)"
      ]
     },
     "execution_count": 5,
     "metadata": {},
     "output_type": "execute_result"
    }
   ],
   "source": [
    "timepoint = [0,5,10,15,20,25,30,35,40,45]\n",
    "drugs = groupedtumordata['Drug'].unique()\n",
    "drugs"
   ]
  },
  {
   "cell_type": "code",
   "execution_count": 9,
   "metadata": {},
   "outputs": [],
   "source": [
    "capomulin = groupedtumordata['Tumor Volume (mm3)'][0:10]\n",
    "ceftamin = groupedtumordata['Tumor Volume (mm3)'][10:20]\n",
    "infubinol = groupedtumordata['Tumor Volume (mm3)'][20:30]\n",
    "ketapril = groupedtumordata['Tumor Volume (mm3)'][30:40]\n",
    "naftisol = groupedtumordata['Tumor Volume (mm3)'][40:50]\n",
    "placebo = groupedtumordata['Tumor Volume (mm3)'][50:60]\n",
    "propriva = groupedtumordata['Tumor Volume (mm3)'][60:70]\n",
    "ramicane = groupedtumordata['Tumor Volume (mm3)'][70:80]\n",
    "stelasyn = groupedtumordata['Tumor Volume (mm3)'][80:90]\n",
    "zoniferol = groupedtumordata['Tumor Volume (mm3)'][90:100]"
   ]
  },
  {
   "cell_type": "code",
   "execution_count": null,
   "metadata": {},
   "outputs": [],
   "source": []
  },
  {
   "cell_type": "code",
   "execution_count": 10,
   "metadata": {},
   "outputs": [
    {
     "data": {
      "text/plain": [
       "Text(0.5, 1.0, 'Tumor volume changes over time')"
      ]
     },
     "execution_count": 10,
     "metadata": {},
     "output_type": "execute_result"
    },
    {
     "data": {
      "image/png": "[encoded data removed]",
      "text/plain": [
       "<Figure size 432x288 with 1 Axes>"
      ]
     },
     "metadata": {
      "needs_background": "light"
     },
     "output_type": "display_data"
    }
   ],
   "source": [
    "#Creating a scatter plot that shows how the tumor volume changes over time for each treatment\n",
    "plt.plot(timepoint, capomulin, linewidth=1, color=\"blue\", label = \"capomulin\")\n",
    "plt.plot(timepoint, ceftamin, linewidth=1, color=\"red\", label = \"ceftamin\")\n",
    "plt.plot(timepoint, infubinol, linewidth=1, color=\"yellow\", label = \"infubinol\")\n",
    "plt.plot(timepoint, ketapril, linewidth=1, color=\"green\", label = \"ketapril\")\n",
    "plt.plot(timepoint, naftisol, linewidth=1, color=\"lightcoral\", label = \"naftisol\")\n",
    "plt.plot(timepoint, placebo, linewidth=1, color=\"lime\", label = \"placebo\")\n",
    "plt.plot(timepoint, propriva, linewidth=1, color=\"cyan\", label = \"popriva\")\n",
    "plt.plot(timepoint, ramicane, linewidth=1, color=\"purple\", label = \"ramicane\")\n",
    "plt.plot(timepoint, stelasyn, linewidth=1, color=\"mediumvioletred\", label = \"stelasyn\")\n",
    "plt.plot(timepoint, zoniferol, linewidth=1, color=\"darkorange\", label = \"zoniferol\")\n",
    "plt.xlabel(\"Timepoint\")\n",
    "plt.ylabel(\"Tumor Volume (mm3)\")\n",
    "plt.legend(loc=\"upper right\")\n",
    "plt.title(\"Tumor volume changes over time\")"
   ]
  },
  {
   "cell_type": "code",
   "execution_count": 11,
   "metadata": {},
   "outputs": [
    {
     "data": {
      "text/html": [
       "<div>\n",
       "<style scoped>\n",
       "    .dataframe tbody tr th:only-of-type {\n",
       "        vertical-align: middle;\n",
       "    }\n",
       "\n",
       "    .dataframe tbody tr th {\n",
       "        vertical-align: top;\n",
       "    }\n",
       "\n",
       "    .dataframe thead th {\n",
       "        text-align: right;\n",
       "    }\n",
       "</style>\n",
       "<table border=\"1\" class=\"dataframe\">\n",
       "  <thead>\n",
       "    <tr style=\"text-align: right;\">\n",
       "      <th></th>\n",
       "      <th>Drug</th>\n",
       "      <th>Timepoint</th>\n",
       "      <th>Tumor Volume (mm3)</th>\n",
       "    </tr>\n",
       "  </thead>\n",
       "  <tbody>\n",
       "    <tr>\n",
       "      <th>0</th>\n",
       "      <td>Capomulin</td>\n",
       "      <td>0</td>\n",
       "      <td>0.000000</td>\n",
       "    </tr>\n",
       "    <tr>\n",
       "      <th>1</th>\n",
       "      <td>Capomulin</td>\n",
       "      <td>5</td>\n",
       "      <td>0.448593</td>\n",
       "    </tr>\n",
       "    <tr>\n",
       "      <th>2</th>\n",
       "      <td>Capomulin</td>\n",
       "      <td>10</td>\n",
       "      <td>0.702684</td>\n",
       "    </tr>\n",
       "    <tr>\n",
       "      <th>3</th>\n",
       "      <td>Capomulin</td>\n",
       "      <td>15</td>\n",
       "      <td>0.838617</td>\n",
       "    </tr>\n",
       "    <tr>\n",
       "      <th>4</th>\n",
       "      <td>Capomulin</td>\n",
       "      <td>20</td>\n",
       "      <td>0.909731</td>\n",
       "    </tr>\n",
       "  </tbody>\n",
       "</table>\n",
       "</div>"
      ],
      "text/plain": [
       "        Drug  Timepoint  Tumor Volume (mm3)\n",
       "0  Capomulin          0            0.000000\n",
       "1  Capomulin          5            0.448593\n",
       "2  Capomulin         10            0.702684\n",
       "3  Capomulin         15            0.838617\n",
       "4  Capomulin         20            0.909731"
      ]
     },
     "execution_count": 11,
     "metadata": {},
     "output_type": "execute_result"
    }
   ],
   "source": [
    "#Obtengo los errores estandar\n",
    "groupedtumordatasem = data.groupby([\"Drug\", \"Timepoint\"])[\"Tumor Volume (mm3)\"].sem().reset_index()\n",
    "groupedtumordatasem = pd.DataFrame(groupedtumordatasem)\n",
    "groupedtumordatasem.head()"
   ]
  },
  {
   "cell_type": "code",
   "execution_count": 12,
   "metadata": {},
   "outputs": [
    {
     "data": {
      "text/html": [
       "<div>\n",
       "<style scoped>\n",
       "    .dataframe tbody tr th:only-of-type {\n",
       "        vertical-align: middle;\n",
       "    }\n",
       "\n",
       "    .dataframe tbody tr th {\n",
       "        vertical-align: top;\n",
       "    }\n",
       "\n",
       "    .dataframe thead th {\n",
       "        text-align: right;\n",
       "    }\n",
       "</style>\n",
       "<table border=\"1\" class=\"dataframe\">\n",
       "  <thead>\n",
       "    <tr style=\"text-align: right;\">\n",
       "      <th></th>\n",
       "      <th>Drug</th>\n",
       "      <th>Timepoint</th>\n",
       "      <th>Metastatic Sites</th>\n",
       "    </tr>\n",
       "  </thead>\n",
       "  <tbody>\n",
       "    <tr>\n",
       "      <th>0</th>\n",
       "      <td>Capomulin</td>\n",
       "      <td>0</td>\n",
       "      <td>0.000000</td>\n",
       "    </tr>\n",
       "    <tr>\n",
       "      <th>1</th>\n",
       "      <td>Capomulin</td>\n",
       "      <td>5</td>\n",
       "      <td>0.160000</td>\n",
       "    </tr>\n",
       "    <tr>\n",
       "      <th>2</th>\n",
       "      <td>Capomulin</td>\n",
       "      <td>10</td>\n",
       "      <td>0.320000</td>\n",
       "    </tr>\n",
       "    <tr>\n",
       "      <th>3</th>\n",
       "      <td>Capomulin</td>\n",
       "      <td>15</td>\n",
       "      <td>0.375000</td>\n",
       "    </tr>\n",
       "    <tr>\n",
       "      <th>4</th>\n",
       "      <td>Capomulin</td>\n",
       "      <td>20</td>\n",
       "      <td>0.652174</td>\n",
       "    </tr>\n",
       "  </tbody>\n",
       "</table>\n",
       "</div>"
      ],
      "text/plain": [
       "        Drug  Timepoint  Metastatic Sites\n",
       "0  Capomulin          0          0.000000\n",
       "1  Capomulin          5          0.160000\n",
       "2  Capomulin         10          0.320000\n",
       "3  Capomulin         15          0.375000\n",
       "4  Capomulin         20          0.652174"
      ]
     },
     "execution_count": 12,
     "metadata": {},
     "output_type": "execute_result"
    }
   ],
   "source": [
    "#Agrupo mis datos por Drug y por Timepoint para graficar y saco la media \n",
    "groupedmetdata = data.groupby([\"Drug\", \"Timepoint\"])[\"Metastatic Sites\"].mean().reset_index()\n",
    "groupedmetdata = pd.DataFrame(groupedmetdata)\n",
    "groupedmetdata.head()"
   ]
  },
  {
   "cell_type": "code",
   "execution_count": 13,
   "metadata": {},
   "outputs": [],
   "source": [
    "capomulin = groupedmetdata['Metastatic Sites'][0:10]\n",
    "ceftamin = groupedmetdata['Metastatic Sites'][10:20]\n",
    "infubinol = groupedmetdata['Metastatic Sites'][20:30]\n",
    "ketapril = groupedmetdata['Metastatic Sites'][30:40]\n",
    "naftisol = groupedmetdata['Metastatic Sites'][40:50]\n",
    "placebo = groupedmetdata['Metastatic Sites'][50:60]\n",
    "propriva = groupedmetdata['Metastatic Sites'][60:70]\n",
    "ramicane = groupedmetdata['Metastatic Sites'][70:80]\n",
    "stelasyn = groupedmetdata['Metastatic Sites'][80:90]\n",
    "zoniferol = groupedmetdata['Metastatic Sites'][90:100]"
   ]
  },
  {
   "cell_type": "code",
   "execution_count": 14,
   "metadata": {},
   "outputs": [
    {
     "data": {
      "text/plain": [
       "Text(0.5, 1.0, 'Metastatic sites changes over time')"
      ]
     },
     "execution_count": 14,
     "metadata": {},
     "output_type": "execute_result"
    },
    {
     "data": {
      "image/png": "[encoded data removed]",
      "text/plain": [
       "<Figure size 432x288 with 1 Axes>"
      ]
     },
     "metadata": {
      "needs_background": "light"
     },
     "output_type": "display_data"
    }
   ],
   "source": [
    "#Creating a scatter plot that shows how the number of metastatic (cancer spreading) sites changes over time for each treatment.\n",
    "plt.plot(timepoint, capomulin, linewidth=1, color=\"blue\", label = \"capomulin\")\n",
    "plt.plot(timepoint, ceftamin, linewidth=1, color=\"red\", label = \"ceftamin\")\n",
    "plt.plot(timepoint, infubinol, linewidth=1, color=\"yellow\", label = \"infubinol\")\n",
    "plt.plot(timepoint, ketapril, linewidth=1, color=\"green\", label = \"ketapril\")\n",
    "plt.plot(timepoint, naftisol, linewidth=1, color=\"lightcoral\", label = \"naftisol\")\n",
    "plt.plot(timepoint, placebo, linewidth=1, color=\"lime\", label = \"placebo\")\n",
    "plt.plot(timepoint, propriva, linewidth=1, color=\"cyan\", label = \"popriva\")\n",
    "plt.plot(timepoint, ramicane, linewidth=1, color=\"purple\", label = \"ramicane\")\n",
    "plt.plot(timepoint, stelasyn, linewidth=1, color=\"mediumvioletred\", label = \"stelasyn\")\n",
    "plt.plot(timepoint, zoniferol, linewidth=1, color=\"darkorange\", label = \"zoniferol\")\n",
    "plt.xlabel(\"Timepoint\")\n",
    "plt.ylabel(\"Metastatic Sites\")\n",
    "plt.legend(loc=\"upper right\")\n",
    "plt.grid()\n",
    "plt.title(\"Metastatic sites changes over time\")"
   ]
  },
  {
   "cell_type": "code",
   "execution_count": 15,
   "metadata": {},
   "outputs": [
    {
     "data": {
      "text/html": [
       "<div>\n",
       "<style scoped>\n",
       "    .dataframe tbody tr th:only-of-type {\n",
       "        vertical-align: middle;\n",
       "    }\n",
       "\n",
       "    .dataframe tbody tr th {\n",
       "        vertical-align: top;\n",
       "    }\n",
       "\n",
       "    .dataframe thead th {\n",
       "        text-align: right;\n",
       "    }\n",
       "</style>\n",
       "<table border=\"1\" class=\"dataframe\">\n",
       "  <thead>\n",
       "    <tr style=\"text-align: right;\">\n",
       "      <th></th>\n",
       "      <th>Drug</th>\n",
       "      <th>Timepoint</th>\n",
       "      <th>Mouse Count</th>\n",
       "    </tr>\n",
       "  </thead>\n",
       "  <tbody>\n",
       "    <tr>\n",
       "      <th>0</th>\n",
       "      <td>Capomulin</td>\n",
       "      <td>0</td>\n",
       "      <td>25</td>\n",
       "    </tr>\n",
       "    <tr>\n",
       "      <th>1</th>\n",
       "      <td>Capomulin</td>\n",
       "      <td>5</td>\n",
       "      <td>25</td>\n",
       "    </tr>\n",
       "    <tr>\n",
       "      <th>2</th>\n",
       "      <td>Capomulin</td>\n",
       "      <td>10</td>\n",
       "      <td>25</td>\n",
       "    </tr>\n",
       "    <tr>\n",
       "      <th>3</th>\n",
       "      <td>Capomulin</td>\n",
       "      <td>15</td>\n",
       "      <td>24</td>\n",
       "    </tr>\n",
       "    <tr>\n",
       "      <th>4</th>\n",
       "      <td>Capomulin</td>\n",
       "      <td>20</td>\n",
       "      <td>23</td>\n",
       "    </tr>\n",
       "  </tbody>\n",
       "</table>\n",
       "</div>"
      ],
      "text/plain": [
       "        Drug  Timepoint  Mouse Count\n",
       "0  Capomulin          0           25\n",
       "1  Capomulin          5           25\n",
       "2  Capomulin         10           25\n",
       "3  Capomulin         15           24\n",
       "4  Capomulin         20           23"
      ]
     },
     "execution_count": 15,
     "metadata": {},
     "output_type": "execute_result"
    }
   ],
   "source": [
    "#Survival rate\n",
    "mouse_data = data.groupby([\"Drug\", \"Timepoint\"])[\"Mouse ID\"].count().reset_index()\n",
    "mouse_data_rename = mouse_data.rename(columns={\"Mouse ID\":\"Mouse Count\"})\n",
    "mouse_data_rename.head(5)"
   ]
  },
  {
   "cell_type": "code",
   "execution_count": 16,
   "metadata": {},
   "outputs": [
    {
     "data": {
      "text/html": [
       "<div>\n",
       "<style scoped>\n",
       "    .dataframe tbody tr th:only-of-type {\n",
       "        vertical-align: middle;\n",
       "    }\n",
       "\n",
       "    .dataframe tbody tr th {\n",
       "        vertical-align: top;\n",
       "    }\n",
       "\n",
       "    .dataframe thead th {\n",
       "        text-align: right;\n",
       "    }\n",
       "</style>\n",
       "<table border=\"1\" class=\"dataframe\">\n",
       "  <thead>\n",
       "    <tr style=\"text-align: right;\">\n",
       "      <th>Drug</th>\n",
       "      <th>Capomulin</th>\n",
       "      <th>Ceftamin</th>\n",
       "      <th>Infubinol</th>\n",
       "      <th>Ketapril</th>\n",
       "      <th>Naftisol</th>\n",
       "      <th>Placebo</th>\n",
       "      <th>Propriva</th>\n",
       "      <th>Ramicane</th>\n",
       "      <th>Stelasyn</th>\n",
       "      <th>Zoniferol</th>\n",
       "    </tr>\n",
       "    <tr>\n",
       "      <th>Timepoint</th>\n",
       "      <th></th>\n",
       "      <th></th>\n",
       "      <th></th>\n",
       "      <th></th>\n",
       "      <th></th>\n",
       "      <th></th>\n",
       "      <th></th>\n",
       "      <th></th>\n",
       "      <th></th>\n",
       "      <th></th>\n",
       "    </tr>\n",
       "  </thead>\n",
       "  <tbody>\n",
       "    <tr>\n",
       "      <th>0</th>\n",
       "      <td>0.000000</td>\n",
       "      <td>0.000000</td>\n",
       "      <td>0.000000</td>\n",
       "      <td>0.000000</td>\n",
       "      <td>0.000000</td>\n",
       "      <td>0.000000</td>\n",
       "      <td>0.000000</td>\n",
       "      <td>0.000000</td>\n",
       "      <td>0.000000</td>\n",
       "      <td>0.000000</td>\n",
       "    </tr>\n",
       "    <tr>\n",
       "      <th>5</th>\n",
       "      <td>0.160000</td>\n",
       "      <td>0.380952</td>\n",
       "      <td>0.280000</td>\n",
       "      <td>0.304348</td>\n",
       "      <td>0.260870</td>\n",
       "      <td>0.375000</td>\n",
       "      <td>0.320000</td>\n",
       "      <td>0.120000</td>\n",
       "      <td>0.240000</td>\n",
       "      <td>0.166667</td>\n",
       "    </tr>\n",
       "    <tr>\n",
       "      <th>10</th>\n",
       "      <td>0.320000</td>\n",
       "      <td>0.600000</td>\n",
       "      <td>0.666667</td>\n",
       "      <td>0.590909</td>\n",
       "      <td>0.523810</td>\n",
       "      <td>0.833333</td>\n",
       "      <td>0.565217</td>\n",
       "      <td>0.250000</td>\n",
       "      <td>0.478261</td>\n",
       "      <td>0.500000</td>\n",
       "    </tr>\n",
       "    <tr>\n",
       "      <th>15</th>\n",
       "      <td>0.375000</td>\n",
       "      <td>0.789474</td>\n",
       "      <td>0.904762</td>\n",
       "      <td>0.842105</td>\n",
       "      <td>0.857143</td>\n",
       "      <td>1.250000</td>\n",
       "      <td>0.764706</td>\n",
       "      <td>0.333333</td>\n",
       "      <td>0.782609</td>\n",
       "      <td>0.809524</td>\n",
       "    </tr>\n",
       "    <tr>\n",
       "      <th>20</th>\n",
       "      <td>0.652174</td>\n",
       "      <td>1.111111</td>\n",
       "      <td>1.050000</td>\n",
       "      <td>1.210526</td>\n",
       "      <td>1.150000</td>\n",
       "      <td>1.526316</td>\n",
       "      <td>1.000000</td>\n",
       "      <td>0.347826</td>\n",
       "      <td>0.952381</td>\n",
       "      <td>1.294118</td>\n",
       "    </tr>\n",
       "  </tbody>\n",
       "</table>\n",
       "</div>"
      ],
      "text/plain": [
       "Drug       Capomulin  Ceftamin  Infubinol  Ketapril  Naftisol   Placebo  \\\n",
       "Timepoint                                                                 \n",
       "0           0.000000  0.000000   0.000000  0.000000  0.000000  0.000000   \n",
       "5           0.160000  0.380952   0.280000  0.304348  0.260870  0.375000   \n",
       "10          0.320000  0.600000   0.666667  0.590909  0.523810  0.833333   \n",
       "15          0.375000  0.789474   0.904762  0.842105  0.857143  1.250000   \n",
       "20          0.652174  1.111111   1.050000  1.210526  1.150000  1.526316   \n",
       "\n",
       "Drug       Propriva  Ramicane  Stelasyn  Zoniferol  \n",
       "Timepoint                                           \n",
       "0          0.000000  0.000000  0.000000   0.000000  \n",
       "5          0.320000  0.120000  0.240000   0.166667  \n",
       "10         0.565217  0.250000  0.478261   0.500000  \n",
       "15         0.764706  0.333333  0.782609   0.809524  \n",
       "20         1.000000  0.347826  0.952381   1.294118  "
      ]
     },
     "execution_count": 16,
     "metadata": {},
     "output_type": "execute_result"
    }
   ],
   "source": [
    "Meta_mean_pivot = groupedmetdata.pivot(index=\"Timepoint\", columns=\"Drug\")[\"Metastatic Sites\"]\n",
    "Meta_mean_pivot.head()"
   ]
  },
  {
   "cell_type": "code",
   "execution_count": 17,
   "metadata": {
    "scrolled": true
   },
   "outputs": [
    {
     "data": {
      "text/html": [
       "<div>\n",
       "<style scoped>\n",
       "    .dataframe tbody tr th:only-of-type {\n",
       "        vertical-align: middle;\n",
       "    }\n",
       "\n",
       "    .dataframe tbody tr th {\n",
       "        vertical-align: top;\n",
       "    }\n",
       "\n",
       "    .dataframe thead th {\n",
       "        text-align: right;\n",
       "    }\n",
       "</style>\n",
       "<table border=\"1\" class=\"dataframe\">\n",
       "  <thead>\n",
       "    <tr style=\"text-align: right;\">\n",
       "      <th></th>\n",
       "      <th>Drug</th>\n",
       "      <th>Timepoint</th>\n",
       "      <th>Mouse Count</th>\n",
       "    </tr>\n",
       "  </thead>\n",
       "  <tbody>\n",
       "    <tr>\n",
       "      <th>0</th>\n",
       "      <td>Capomulin</td>\n",
       "      <td>0</td>\n",
       "      <td>25</td>\n",
       "    </tr>\n",
       "    <tr>\n",
       "      <th>1</th>\n",
       "      <td>Capomulin</td>\n",
       "      <td>5</td>\n",
       "      <td>25</td>\n",
       "    </tr>\n",
       "    <tr>\n",
       "      <th>2</th>\n",
       "      <td>Capomulin</td>\n",
       "      <td>10</td>\n",
       "      <td>25</td>\n",
       "    </tr>\n",
       "    <tr>\n",
       "      <th>3</th>\n",
       "      <td>Capomulin</td>\n",
       "      <td>15</td>\n",
       "      <td>24</td>\n",
       "    </tr>\n",
       "    <tr>\n",
       "      <th>4</th>\n",
       "      <td>Capomulin</td>\n",
       "      <td>20</td>\n",
       "      <td>23</td>\n",
       "    </tr>\n",
       "  </tbody>\n",
       "</table>\n",
       "</div>"
      ],
      "text/plain": [
       "        Drug  Timepoint  Mouse Count\n",
       "0  Capomulin          0           25\n",
       "1  Capomulin          5           25\n",
       "2  Capomulin         10           25\n",
       "3  Capomulin         15           24\n",
       "4  Capomulin         20           23"
      ]
     },
     "execution_count": 17,
     "metadata": {},
     "output_type": "execute_result"
    }
   ],
   "source": [
    "mouse_data = data.groupby([\"Drug\", \"Timepoint\"])[\"Mouse ID\"].count().reset_index()\n",
    "mouse_data_rename = mouse_data.rename(columns={\"Mouse ID\":\"Mouse Count\"})\n",
    "mouse_df = pd.DataFrame(mouse_data_rename)\n",
    "mouse_df.head()"
   ]
  },
  {
   "cell_type": "code",
   "execution_count": 18,
   "metadata": {},
   "outputs": [
    {
     "data": {
      "text/html": [
       "<div>\n",
       "<style scoped>\n",
       "    .dataframe tbody tr th:only-of-type {\n",
       "        vertical-align: middle;\n",
       "    }\n",
       "\n",
       "    .dataframe tbody tr th {\n",
       "        vertical-align: top;\n",
       "    }\n",
       "\n",
       "    .dataframe thead th {\n",
       "        text-align: right;\n",
       "    }\n",
       "</style>\n",
       "<table border=\"1\" class=\"dataframe\">\n",
       "  <thead>\n",
       "    <tr style=\"text-align: right;\">\n",
       "      <th>Drug</th>\n",
       "      <th>Capomulin</th>\n",
       "      <th>Ceftamin</th>\n",
       "      <th>Infubinol</th>\n",
       "      <th>Ketapril</th>\n",
       "      <th>Naftisol</th>\n",
       "      <th>Placebo</th>\n",
       "      <th>Propriva</th>\n",
       "      <th>Ramicane</th>\n",
       "      <th>Stelasyn</th>\n",
       "      <th>Zoniferol</th>\n",
       "    </tr>\n",
       "    <tr>\n",
       "      <th>Timepoint</th>\n",
       "      <th></th>\n",
       "      <th></th>\n",
       "      <th></th>\n",
       "      <th></th>\n",
       "      <th></th>\n",
       "      <th></th>\n",
       "      <th></th>\n",
       "      <th></th>\n",
       "      <th></th>\n",
       "      <th></th>\n",
       "    </tr>\n",
       "  </thead>\n",
       "  <tbody>\n",
       "    <tr>\n",
       "      <th>0</th>\n",
       "      <td>100.0</td>\n",
       "      <td>100.0</td>\n",
       "      <td>100.0</td>\n",
       "      <td>100.0</td>\n",
       "      <td>100.0</td>\n",
       "      <td>100.0</td>\n",
       "      <td>104.0</td>\n",
       "      <td>100.0</td>\n",
       "      <td>104.0</td>\n",
       "      <td>100.0</td>\n",
       "    </tr>\n",
       "    <tr>\n",
       "      <th>5</th>\n",
       "      <td>100.0</td>\n",
       "      <td>84.0</td>\n",
       "      <td>100.0</td>\n",
       "      <td>92.0</td>\n",
       "      <td>92.0</td>\n",
       "      <td>96.0</td>\n",
       "      <td>100.0</td>\n",
       "      <td>100.0</td>\n",
       "      <td>100.0</td>\n",
       "      <td>96.0</td>\n",
       "    </tr>\n",
       "    <tr>\n",
       "      <th>10</th>\n",
       "      <td>100.0</td>\n",
       "      <td>80.0</td>\n",
       "      <td>84.0</td>\n",
       "      <td>88.0</td>\n",
       "      <td>84.0</td>\n",
       "      <td>96.0</td>\n",
       "      <td>92.0</td>\n",
       "      <td>96.0</td>\n",
       "      <td>92.0</td>\n",
       "      <td>88.0</td>\n",
       "    </tr>\n",
       "    <tr>\n",
       "      <th>15</th>\n",
       "      <td>96.0</td>\n",
       "      <td>76.0</td>\n",
       "      <td>84.0</td>\n",
       "      <td>76.0</td>\n",
       "      <td>84.0</td>\n",
       "      <td>80.0</td>\n",
       "      <td>68.0</td>\n",
       "      <td>96.0</td>\n",
       "      <td>92.0</td>\n",
       "      <td>84.0</td>\n",
       "    </tr>\n",
       "    <tr>\n",
       "      <th>20</th>\n",
       "      <td>92.0</td>\n",
       "      <td>72.0</td>\n",
       "      <td>80.0</td>\n",
       "      <td>76.0</td>\n",
       "      <td>80.0</td>\n",
       "      <td>76.0</td>\n",
       "      <td>68.0</td>\n",
       "      <td>92.0</td>\n",
       "      <td>84.0</td>\n",
       "      <td>68.0</td>\n",
       "    </tr>\n",
       "  </tbody>\n",
       "</table>\n",
       "</div>"
      ],
      "text/plain": [
       "Drug       Capomulin  Ceftamin  Infubinol  Ketapril  Naftisol  Placebo  \\\n",
       "Timepoint                                                                \n",
       "0              100.0     100.0      100.0     100.0     100.0    100.0   \n",
       "5              100.0      84.0      100.0      92.0      92.0     96.0   \n",
       "10             100.0      80.0       84.0      88.0      84.0     96.0   \n",
       "15              96.0      76.0       84.0      76.0      84.0     80.0   \n",
       "20              92.0      72.0       80.0      76.0      80.0     76.0   \n",
       "\n",
       "Drug       Propriva  Ramicane  Stelasyn  Zoniferol  \n",
       "Timepoint                                           \n",
       "0             104.0     100.0     104.0      100.0  \n",
       "5             100.0     100.0     100.0       96.0  \n",
       "10             92.0      96.0      92.0       88.0  \n",
       "15             68.0      96.0      92.0       84.0  \n",
       "20             68.0      92.0      84.0       68.0  "
      ]
     },
     "execution_count": 18,
     "metadata": {},
     "output_type": "execute_result"
    }
   ],
   "source": [
    "Mouse_data_pivot = mouse_df.pivot(index=\"Timepoint\", columns=\"Drug\")[\"Mouse Count\"] / 25 * 100\n",
    "Mouse_data_pivot.head()"
   ]
  },
  {
   "cell_type": "code",
   "execution_count": 19,
   "metadata": {},
   "outputs": [
    {
     "data": {
      "image/png": "[encoded data removed]",
      "text/plain": [
       "<Figure size 432x288 with 1 Axes>"
      ]
     },
     "metadata": {
      "needs_background": "light"
     },
     "output_type": "display_data"
    }
   ],
   "source": [
    "plt.figure()\n",
    "plt.errorbar(Mouse_data_pivot.index, Mouse_data_pivot[\"Capomulin\"], yerr=Meta_mean_pivot[\"Capomulin\"], color=\"r\", fmt=\"o--\")\n",
    "plt.errorbar(Mouse_data_pivot.index, Mouse_data_pivot[\"Infubinol\"], yerr=Meta_mean_pivot[\"Infubinol\"], color=\"b\", fmt=\"o--\")\n",
    "plt.errorbar(Mouse_data_pivot.index, Mouse_data_pivot[\"Ketapril\"], yerr=Meta_mean_pivot[\"Ketapril\"], color=\"g\", fmt=\"o--\")\n",
    "plt.errorbar(Mouse_data_pivot.index, Mouse_data_pivot[\"Placebo\"], yerr=Meta_mean_pivot[\"Placebo\"], color=\"black\", fmt=\"o--\")\n",
    "plt.errorbar(Mouse_data_pivot.index, Mouse_data_pivot[\"Ceftamin\"], yerr=Meta_mean_pivot[\"Ceftamin\"], color=\"pink\", fmt=\"o--\")\n",
    "plt.errorbar(Mouse_data_pivot.index, Mouse_data_pivot[\"Naftisol\"], yerr=Meta_mean_pivot[\"Naftisol\"], color=\"yellow\", fmt=\"o--\")\n",
    "plt.errorbar(Mouse_data_pivot.index, Mouse_data_pivot[\"Propriva\"], yerr=Meta_mean_pivot[\"Propriva\"], color=\"tomato\", fmt=\"o--\")\n",
    "plt.errorbar(Mouse_data_pivot.index, Mouse_data_pivot[\"Ramicane\"], yerr=Meta_mean_pivot[\"Ramicane\"], color=\"orange\", fmt=\"o--\")\n",
    "plt.errorbar(Mouse_data_pivot.index, Mouse_data_pivot[\"Stelasyn\"], yerr=Meta_mean_pivot[\"Stelasyn\"], color=\"yellowgreen\", fmt=\"o--\")\n",
    "plt.errorbar(Mouse_data_pivot.index, Mouse_data_pivot[\"Zoniferol\"], yerr=Meta_mean_pivot[\"Zoniferol\"], color=\"violet\", fmt=\"o--\")\n",
    "plt.title(\"Survival During Treatment\")\n",
    "plt.ylabel(\"Survival Rate (%)\")\n",
    "plt.xlabel(\"Time (Days)\")\n",
    "plt.legend([\"Capomulin\", \"Infubinol\", \"Ketapril\", \"Placebo\",\"Ceftamin\",\"Naftisol\",\"Propriva\",\"Ramicane\",\"Stelasyn\",\"Zoniferol\"], loc=\"best\")\n",
    "plt.show()"
   ]
  },
  {
   "cell_type": "code",
   "execution_count": 20,
   "metadata": {},
   "outputs": [],
   "source": [
    "#Creating a bar graph that compares the total % tumor volume change for each drug across the full 45 days."
   ]
  },
  {
   "cell_type": "code",
   "execution_count": 21,
   "metadata": {},
   "outputs": [],
   "source": [
    "capomulin1 = groupedtumordata['Tumor Volume (mm3)'][0:9].mean()\n",
    "capomulin2 = groupedtumordata['Tumor Volume (mm3)'][1:10].mean()\n",
    "ceftamin1 = groupedtumordata['Tumor Volume (mm3)'][10:19].mean()\n",
    "ceftamin2 = groupedtumordata['Tumor Volume (mm3)'][11:20].mean()\n",
    "infubinol1 = groupedtumordata['Tumor Volume (mm3)'][20:29].mean()\n",
    "infubinol2 = groupedtumordata['Tumor Volume (mm3)'][21:30].mean()\n",
    "ketapril1 = groupedtumordata['Tumor Volume (mm3)'][30:39].mean()\n",
    "ketapril2 = groupedtumordata['Tumor Volume (mm3)'][31:40].mean()\n",
    "naftisol1 = groupedtumordata['Tumor Volume (mm3)'][40:49].mean()\n",
    "naftisol2 = groupedtumordata['Tumor Volume (mm3)'][41:50].mean()\n",
    "placebo1 = groupedtumordata['Tumor Volume (mm3)'][50:59].mean()\n",
    "placebo2 = groupedtumordata['Tumor Volume (mm3)'][51:60].mean()\n",
    "propriva1 = groupedtumordata['Tumor Volume (mm3)'][60:69].mean()\n",
    "propriva2 = groupedtumordata['Tumor Volume (mm3)'][61:70].mean()\n",
    "ramicane1 = groupedtumordata['Tumor Volume (mm3)'][70:79].mean()\n",
    "ramicane2 = groupedtumordata['Tumor Volume (mm3)'][71:80].mean()\n",
    "stelasyn1 = groupedtumordata['Tumor Volume (mm3)'][80:89].mean()\n",
    "stelasyn2 = groupedtumordata['Tumor Volume (mm3)'][81:90].mean()\n",
    "zoniferol1 = groupedtumordata['Tumor Volume (mm3)'][90:99].mean()\n",
    "zoniferol2 = groupedtumordata['Tumor Volume (mm3)'][91:100].mean()"
   ]
  },
  {
   "cell_type": "code",
   "execution_count": 22,
   "metadata": {},
   "outputs": [],
   "source": [
    "p1=((capomulin2/capomulin1)-1)*100\n",
    "p2=((ceftamin2/ceftamin1)-1)*100\n",
    "p3=((infubinol2/infubinol1)-1)*100\n",
    "p4=((ketapril2/ketapril1)-1)*100\n",
    "p5=((naftisol2/naftisol1)-1)*100\n",
    "p6=((placebo2/placebo1)-1)*100\n",
    "p7=((propriva2/propriva1)-1)*100\n",
    "p8=((ramicane2/ramicane1)-1)*100\n",
    "p9=((stelasyn2/stelasyn1)-1)*100\n",
    "p10=((zoniferol2/zoniferol1)-1)*100"
   ]
  },
  {
   "cell_type": "code",
   "execution_count": 25,
   "metadata": {},
   "outputs": [
    {
     "data": {
      "image/png": "[encoded data removed]",
      "text/plain": [
       "<Figure size 432x288 with 1 Axes>"
      ]
     },
     "metadata": {
      "needs_background": "light"
     },
     "output_type": "display_data"
    }
   ],
   "source": [
    "height = [p1,p2,p3,p4,p5,p6,p7,p8,p9,p10]\n",
    "bars = ('capomulin','ceftamin','infubinol','ketapril','naftisol','placebo','propriva','ramicane','stelasyn','zoniferol')\n",
    "y_pos = np.arange(len(bars))\n",
    "plt.bar(y_pos, height, color = 'pink')\n",
    "plt.xticks(y_pos, bars,rotation=90)\n",
    "plt.title('Total % tumor volume change for each drug across the full 45 days')\n",
    "plt.xlabel('Drugs')\n",
    "plt.ylabel('% change')\n",
    "plt.show()"
   ]
  }
 ],
 "metadata": {
  "kernelspec": {
   "display_name": "Python 3",
   "language": "python",
   "name": "python3"
  },
  "language_info": {
   "codemirror_mode": {
    "name": "ipython",
    "version": 3
   },
   "file_extension": ".py",
   "mimetype": "text/x-python",
   "name": "python",
   "nbconvert_exporter": "python",
   "pygments_lexer": "ipython3",
   "version": "3.7.1"
  }
 },
 "nbformat": 4,
 "nbformat_minor": 2
}
